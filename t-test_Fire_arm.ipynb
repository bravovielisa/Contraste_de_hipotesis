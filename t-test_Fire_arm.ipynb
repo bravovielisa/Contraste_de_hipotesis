{
 "cells": [
  {
   "attachments": {},
   "cell_type": "markdown",
   "metadata": {},
   "source": [
    "# Test de hipotesis: t-test"
   ]
  },
  {
   "attachments": {},
   "cell_type": "markdown",
   "metadata": {},
   "source": [
    "## Teoria:"
   ]
  },
  {
   "attachments": {},
   "cell_type": "markdown",
   "metadata": {},
   "source": [
    "Los problemas de pruebas de hipótesis se resuelven diseñando un estadístico de prueba adecuado para la distribución en cuestión: el número que podemos utilizar realmente para estimar la probabilidad de equivocarnos."
   ]
  },
  {
   "attachments": {},
   "cell_type": "markdown",
   "metadata": {},
   "source": [
    "Supongamos que medimos la media de una distribución a partir de un montón de puntos de datos que tenemos.  \n",
    "Planteamos una **hipótesis contraria**: que ``esta distribución no tiene mas o menos esa media``. Esto se conoce como **hipótesis nula, o H0**.  \n",
    "La **hipótesis alternativa, Ha** , es que ``esta distribución sí tiene más o menos esa media``.  \n",
    "A continuación, seleccionamos un nivel de significación: cuánto riesgo estamos dispuestos a correr de equivocarnos. Supongamos que elegimos α=0,05 (hay un 5% de posibilidades de que nos equivoquemos). Aplicamos algún tipo de test estadístico a los datos y obtenemos un valor p para nuestra estimación media.  \n",
    "El nivel de significación nos indica la improbabilidad (en una escala probabilística [0,1]) de nuestro resultado. en una escala probabilística.\n",
    "Supongamos que tenemos un nivel de significación de 0,01.  \n",
    "Como 0,01<0,05 el nivel de significación es menor que el umbral que elegimos de antemano,  \n",
    "por lo que ``rechazamos la hipótesis nula y aceptamos Ha`` : este resultado es tan raro que estamos lo suficientemente seguros de que la media que elegimos es errónea.\n",
    "\n",
    "Todo este procedimiento se conoce como \"prueba de hipótesis\"."
   ]
  },
  {
   "attachments": {},
   "cell_type": "markdown",
   "metadata": {},
   "source": [
    "Esta prueba es adecuada para estimaciones sobre variables independientes idénticamente distribuidas, siempre que (aproximadamente) n>30 .\n",
    "\n",
    "Las variables deben ser \"independientes\" porque una variable no puede influir en ninguna de las demás variables de la distribución. Un ejemplo de lo contrario -una variable dependiente- sería una serie temporal de cotizaciones bursátiles. Si el precio de las acciones de MSFT es de 100$ hoy, es improbable que sea de 200$ mañana, y si es de 200$ mañana, es improbable que sea de 50$ pasado mañana. Una variable independiente es aquella que no hace esto. Por ejemplo, el número que se saca de los bombos en lotería.\n",
    "\n",
    "Las variables deben estar \"idénticamente distribuidas\" porque la prueba requiere que la distribución de la que se extraen los números no \"varíe\" con el tiempo.\n",
    "\n",
    "Las variables que cumplen estas dos condiciones se denominan variables i.i.d. La mayoría de los estimadores son i.i.d. por definición."
   ]
  },
  {
   "attachments": {},
   "cell_type": "markdown",
   "metadata": {},
   "source": [
    "La condición n>30  es interesante. Esta condición se deriva de lo que se conoce como el Teorema del Límite Central: dadas suficientes extracciones, la media normalizada de una secuencia de variables I.I.D. convergerá casi con seguridad a la distribución normal N(μ=0,σ2=1)"
   ]
  },
  {
   "attachments": {},
   "cell_type": "markdown",
   "metadata": {},
   "source": [
    "## t-test: firearm dataset"
   ]
  },
  {
   "attachments": {},
   "cell_type": "markdown",
   "metadata": {},
   "source": [
    "dataset y practica obtenida de: https://www.kaggle.com/code/residentmario/hypothesis-testing-with-firearm-licensees/notebook "
   ]
  },
  {
   "cell_type": "code",
   "execution_count": 1,
   "metadata": {},
   "outputs": [],
   "source": [
    "import pandas as pd\n",
    "import numpy as np"
   ]
  },
  {
   "cell_type": "code",
   "execution_count": 3,
   "metadata": {},
   "outputs": [
    {
     "name": "stderr",
     "output_type": "stream",
     "text": [
      "C:\\Users\\User\\AppData\\Local\\Temp\\ipykernel_16432\\1939266183.py:1: DtypeWarning: Columns (1,2,3,4,6,12,17) have mixed types. Specify dtype option on import or set low_memory=False.\n",
      "  df = pd.read_csv (r'data\\federal-firearm-licensees.csv', index_col=0)[1:]\n"
     ]
    }
   ],
   "source": [
    "df = pd.read_csv (r'data\\federal-firearm-licensees.csv', index_col=0)[1:]#Elimina la primera fila porque son guiones"
   ]
  },
  {
   "cell_type": "code",
   "execution_count": 5,
   "metadata": {},
   "outputs": [
    {
     "data": {
      "text/html": [
       "<div>\n",
       "<style scoped>\n",
       "    .dataframe tbody tr th:only-of-type {\n",
       "        vertical-align: middle;\n",
       "    }\n",
       "\n",
       "    .dataframe tbody tr th {\n",
       "        vertical-align: top;\n",
       "    }\n",
       "\n",
       "    .dataframe thead th {\n",
       "        text-align: right;\n",
       "    }\n",
       "</style>\n",
       "<table border=\"1\" class=\"dataframe\">\n",
       "  <thead>\n",
       "    <tr style=\"text-align: right;\">\n",
       "      <th></th>\n",
       "      <th>Lic Regn</th>\n",
       "      <th>Lic Dist</th>\n",
       "      <th>Lic Cnty</th>\n",
       "      <th>Lic Type</th>\n",
       "      <th>Lic Xprdte</th>\n",
       "      <th>Lic Seqn</th>\n",
       "      <th>License Name</th>\n",
       "      <th>Business Name</th>\n",
       "      <th>Premise Street</th>\n",
       "      <th>Premise City</th>\n",
       "      <th>Premise State</th>\n",
       "      <th>Premise Zip Code</th>\n",
       "      <th>Mail Street</th>\n",
       "      <th>Mail City</th>\n",
       "      <th>Mail State</th>\n",
       "      <th>Mail Zip Code</th>\n",
       "      <th>Voice Phone</th>\n",
       "    </tr>\n",
       "  </thead>\n",
       "  <tbody>\n",
       "    <tr>\n",
       "      <th>1</th>\n",
       "      <td>1</td>\n",
       "      <td>66</td>\n",
       "      <td>003</td>\n",
       "      <td>01</td>\n",
       "      <td>7L</td>\n",
       "      <td>00150</td>\n",
       "      <td>SALAZAR-MORET, CHARLES</td>\n",
       "      <td>AGUADA SPORT SHOP &amp; ARMORY</td>\n",
       "      <td>BO ASOMANTE CARR 115 KM 24-5</td>\n",
       "      <td>AGUADA</td>\n",
       "      <td>PR</td>\n",
       "      <td>00602</td>\n",
       "      <td>CALLE COLON #4 SUITE 3</td>\n",
       "      <td>AGUADA</td>\n",
       "      <td>PR</td>\n",
       "      <td>00602</td>\n",
       "      <td>7878686682</td>\n",
       "    </tr>\n",
       "    <tr>\n",
       "      <th>2</th>\n",
       "      <td>1</td>\n",
       "      <td>66</td>\n",
       "      <td>003</td>\n",
       "      <td>01</td>\n",
       "      <td>8F</td>\n",
       "      <td>00258</td>\n",
       "      <td>HERNANDEZ-MUNOZ, GILBERTO</td>\n",
       "      <td>ARMERIA Y ACCESORIOS EL NARANJAL</td>\n",
       "      <td>CARR 411 KM 1.0 BO GUAYABO SECTOR BAJURA</td>\n",
       "      <td>AGUADA</td>\n",
       "      <td>PR</td>\n",
       "      <td>00602</td>\n",
       "      <td>4 REPTO MINERVA</td>\n",
       "      <td>AGUADA</td>\n",
       "      <td>PR</td>\n",
       "      <td>00602</td>\n",
       "      <td>7878680125</td>\n",
       "    </tr>\n",
       "    <tr>\n",
       "      <th>3</th>\n",
       "      <td>1</td>\n",
       "      <td>66</td>\n",
       "      <td>003</td>\n",
       "      <td>08</td>\n",
       "      <td>8H</td>\n",
       "      <td>00285</td>\n",
       "      <td>SALAZAR MORET, CHARLES</td>\n",
       "      <td>AGUADA SPORT SHOP</td>\n",
       "      <td>BO ASOMANTE CARR 115 KM 24-5</td>\n",
       "      <td>AGUADA</td>\n",
       "      <td>PR</td>\n",
       "      <td>00602</td>\n",
       "      <td>CALLE COLON #4 SUITE 3</td>\n",
       "      <td>AGUADA</td>\n",
       "      <td>PR</td>\n",
       "      <td>00602</td>\n",
       "      <td>7878686682</td>\n",
       "    </tr>\n",
       "    <tr>\n",
       "      <th>4</th>\n",
       "      <td>1</td>\n",
       "      <td>66</td>\n",
       "      <td>005</td>\n",
       "      <td>01</td>\n",
       "      <td>9M</td>\n",
       "      <td>00224</td>\n",
       "      <td>CARDONA-VALENTIN, VIRGINIA</td>\n",
       "      <td>SHOOTING ACCESSORIES &amp; SERVICE</td>\n",
       "      <td>BO PALMAR CARR 111 KM 1.8</td>\n",
       "      <td>AGUADILLA</td>\n",
       "      <td>PR</td>\n",
       "      <td>00603</td>\n",
       "      <td>HC 2 BOX 20554</td>\n",
       "      <td>AGUADILLA</td>\n",
       "      <td>PR</td>\n",
       "      <td>00603</td>\n",
       "      <td>7876587174</td>\n",
       "    </tr>\n",
       "    <tr>\n",
       "      <th>5</th>\n",
       "      <td>1</td>\n",
       "      <td>66</td>\n",
       "      <td>013</td>\n",
       "      <td>01</td>\n",
       "      <td>8M</td>\n",
       "      <td>83577</td>\n",
       "      <td>GUTIERREZ-MARTINEZ, ORLANDO</td>\n",
       "      <td>G G AND GUNS</td>\n",
       "      <td>BETANCES 165</td>\n",
       "      <td>ARECIBO</td>\n",
       "      <td>PR</td>\n",
       "      <td>00612</td>\n",
       "      <td>BETANCES 165</td>\n",
       "      <td>ARECIBO</td>\n",
       "      <td>PR</td>\n",
       "      <td>00612</td>\n",
       "      <td>7878788329</td>\n",
       "    </tr>\n",
       "  </tbody>\n",
       "</table>\n",
       "</div>"
      ],
      "text/plain": [
       "  Lic Regn Lic Dist Lic Cnty Lic Type Lic Xprdte Lic Seqn  \\\n",
       "1        1       66      003       01         7L    00150   \n",
       "2        1       66      003       01         8F    00258   \n",
       "3        1       66      003       08         8H    00285   \n",
       "4        1       66      005       01         9M    00224   \n",
       "5        1       66      013       01         8M    83577   \n",
       "\n",
       "                  License Name                     Business Name  \\\n",
       "1       SALAZAR-MORET, CHARLES        AGUADA SPORT SHOP & ARMORY   \n",
       "2    HERNANDEZ-MUNOZ, GILBERTO  ARMERIA Y ACCESORIOS EL NARANJAL   \n",
       "3       SALAZAR MORET, CHARLES                 AGUADA SPORT SHOP   \n",
       "4   CARDONA-VALENTIN, VIRGINIA    SHOOTING ACCESSORIES & SERVICE   \n",
       "5  GUTIERREZ-MARTINEZ, ORLANDO                      G G AND GUNS   \n",
       "\n",
       "                             Premise Street Premise City Premise State  \\\n",
       "1              BO ASOMANTE CARR 115 KM 24-5       AGUADA            PR   \n",
       "2  CARR 411 KM 1.0 BO GUAYABO SECTOR BAJURA       AGUADA            PR   \n",
       "3              BO ASOMANTE CARR 115 KM 24-5       AGUADA            PR   \n",
       "4                 BO PALMAR CARR 111 KM 1.8    AGUADILLA            PR   \n",
       "5                              BETANCES 165      ARECIBO            PR   \n",
       "\n",
       "  Premise Zip Code             Mail Street  Mail City Mail State  \\\n",
       "1            00602  CALLE COLON #4 SUITE 3     AGUADA         PR   \n",
       "2            00602         4 REPTO MINERVA     AGUADA         PR   \n",
       "3            00602  CALLE COLON #4 SUITE 3     AGUADA         PR   \n",
       "4            00603          HC 2 BOX 20554  AGUADILLA         PR   \n",
       "5            00612            BETANCES 165    ARECIBO         PR   \n",
       "\n",
       "  Mail Zip Code Voice Phone  \n",
       "1         00602  7878686682  \n",
       "2         00602  7878680125  \n",
       "3         00602  7878686682  \n",
       "4         00603  7876587174  \n",
       "5         00612  7878788329  "
      ]
     },
     "execution_count": 5,
     "metadata": {},
     "output_type": "execute_result"
    }
   ],
   "source": [
    "df.head()"
   ]
  },
  {
   "attachments": {},
   "cell_type": "markdown",
   "metadata": {},
   "source": [
    "### Número medio de titulares de licencias de venta de armas por condado:"
   ]
  },
  {
   "attachments": {},
   "cell_type": "markdown",
   "metadata": {},
   "source": [
    "Supongamos que estamos interesados en medir el número medio de titulares de licencias de venta de armas por condado. Si miramos estos datos, esto es lo que encontramos:"
   ]
  },
  {
   "attachments": {},
   "cell_type": "markdown",
   "metadata": {},
   "source": [
    "*Se utiliza para aplicar el estilo de visualización \"FiveThirtyEight\" a los gráficos en Matplotlib. FiveThirtyEight es un sitio web de noticias y análisis que es conocido por su estilo distintivo de visualización de datos.*"
   ]
  },
  {
   "cell_type": "code",
   "execution_count": 7,
   "metadata": {},
   "outputs": [
    {
     "data": {
      "text/plain": [
       "<Axes: ylabel='Frequency'>"
      ]
     },
     "execution_count": 7,
     "metadata": {},
     "output_type": "execute_result"
    },
    {
     "data": {
      "image/png": "[encoded data removed]",
      "text/plain": [
       "<Figure size 640x480 with 1 Axes>"
      ]
     },
     "metadata": {},
     "output_type": "display_data"
    }
   ],
   "source": [
    "import matplotlib.pyplot as plt\n",
    "plt.style.use('fivethirtyeight') \n",
    "df['Premise Zip Code'].value_counts().plot.hist(bins=50)"
   ]
  },
  {
   "attachments": {},
   "cell_type": "markdown",
   "metadata": {},
   "source": [
    "(tenga en cuenta que, como excluyo los condados que no tienen ninguna tienda de armas de fuego, se trata en realidad de una métrica errónea, pero es suficiente a efectos de demostración)."
   ]
  },
  {
   "cell_type": "code",
   "execution_count": 19,
   "metadata": {},
   "outputs": [
    {
     "data": {
      "text/plain": [
       "Premise Zip Code\n",
       "21222        1\n",
       "56435        1\n",
       "564350000    1\n",
       "56441        1\n",
       "506010000    1\n",
       "Name: count, dtype: int64"
      ]
     },
     "execution_count": 19,
     "metadata": {},
     "output_type": "execute_result"
    }
   ],
   "source": [
    "df['Premise Zip Code'].value_counts().tail()"
   ]
  },
  {
   "attachments": {},
   "cell_type": "markdown",
   "metadata": {},
   "source": [
    "calculamos la media:"
   ]
  },
  {
   "cell_type": "code",
   "execution_count": 9,
   "metadata": {},
   "outputs": [
    {
     "data": {
      "text/plain": [
       "2.7566777819794424"
      ]
     },
     "execution_count": 9,
     "metadata": {},
     "output_type": "execute_result"
    }
   ],
   "source": [
    "df['Premise Zip Code'].value_counts().mean()"
   ]
  },
  {
   "attachments": {},
   "cell_type": "markdown",
   "metadata": {},
   "source": [
    "#### Planteamiento de hipótesis"
   ]
  },
  {
   "attachments": {},
   "cell_type": "markdown",
   "metadata": {},
   "source": [
    "H0: n¯=2.75  \n",
    "Ha: n¯≠2.75\n",
    "Fijemos nuestro nivel p en 0,05. Es decir, digamos que estamos dispuestos a aceptar un riesgo del 5% de que al rechazar la hipótesis nula estemos equivocados."
   ]
  },
  {
   "cell_type": "code",
   "execution_count": 10,
   "metadata": {},
   "outputs": [],
   "source": [
    "X = df['Premise Zip Code'].value_counts()"
   ]
  },
  {
   "attachments": {},
   "cell_type": "markdown",
   "metadata": {},
   "source": [
    "Calculamos a mano t:"
   ]
  },
  {
   "cell_type": "code",
   "execution_count": 11,
   "metadata": {},
   "outputs": [],
   "source": [
    "import numpy as np\n",
    "import scipy.stats as stats\n",
    "\n",
    "def t_value(X, h_0):\n",
    "    se = np.sqrt(np.var(X) / len(X))\n",
    "    return (np.mean(X) - h_0) / se\n",
    "\n",
    "def p_value(t):\n",
    "    # Two-sided p-value, so we multiply by 2.\n",
    "    return stats.norm.sf(abs(t))*2\n",
    "\n",
    "t = t_value(X, 2.75)\n",
    "p = p_value(t)"
   ]
  },
  {
   "cell_type": "code",
   "execution_count": 12,
   "metadata": {},
   "outputs": [
    {
     "data": {
      "text/plain": [
       "(0.36027134698029034, 0.7186442244499154)"
      ]
     },
     "execution_count": 12,
     "metadata": {},
     "output_type": "execute_result"
    }
   ],
   "source": [
    "t, p"
   ]
  },
  {
   "cell_type": "code",
   "execution_count": 13,
   "metadata": {},
   "outputs": [
    {
     "data": {
      "text/plain": [
       "TtestResult(statistic=0.36026515435690487, pvalue=0.718651470754852, df=29088)"
      ]
     },
     "execution_count": 13,
     "metadata": {},
     "output_type": "execute_result"
    }
   ],
   "source": [
    "import scipy.stats as stats\n",
    "\n",
    "stats.ttest_1samp(a=X, popmean=2.75)"
   ]
  },
  {
   "attachments": {},
   "cell_type": "markdown",
   "metadata": {},
   "source": [
    "#### Conclusion"
   ]
  },
  {
   "attachments": {},
   "cell_type": "markdown",
   "metadata": {},
   "source": [
    "La puntuación t  nos dice que nuestro resultado está a 0,36 desviaciones típicas del resultado medio del estimador medio que podemos esperar. Sin embargo, ¡0,36 desviaciones típicas no es mucho! Nuestro valor p  nos dice que casi el 72% de los posibles valores de estimación media están más lejos de nuestra expectativa que el valor que obtuvimos.\n",
    "\n",
    "En otras palabras, un valor medio de 2,75 está en el percentil 72 de cercanía.\n",
    "\n",
    "``Dado que 0,72>0,05 no rechazamos la hipótesis nula H0 . Concluimos que hay pruebas sólidas de que n¯=2,75 -es decir, ¡que el número medio de armerías por código postal en EE.UU. es casi 3!``\n",
    "\n",
    "Como referencia, aquí está la forma habitual de realizar esta prueba utilizando scipy:"
   ]
  },
  {
   "attachments": {},
   "cell_type": "markdown",
   "metadata": {},
   "source": [
    "La comprobación de hipótesis se utiliza mucho en la literatura porque es una herramienta relativamente sencilla y potente para tomar decisiones. Las pruebas de hipótesis nos permiten establecer qué nivel de confianza queremos tener en alguna observación sobre nuestros datos y, a continuación, al probar esa observación, determinar si estamos satisfechos o no de que sea correcta."
   ]
  },
  {
   "attachments": {},
   "cell_type": "markdown",
   "metadata": {},
   "source": [
    "Otra forma de tomar esta decisión es plasmarla en un gráfico. Por ejemplo, podríamos haber recalculado aleatoriamente la media de un número creciente de valores del conjunto de datos, y utilizarla para determinar el grado de confianza que tenemos en nuestro resultado.  \n",
    "  \n",
    "Así, por ejemplo, tomaremos la media de una sola muestra del conjunto de datos; después, la media de dos muestras del conjunto de datos; después, la de tres, y así sucesivamente. Así es como se vería:"
   ]
  },
  {
   "cell_type": "code",
   "execution_count": 14,
   "metadata": {},
   "outputs": [
    {
     "data": {
      "text/plain": [
       "<Axes: >"
      ]
     },
     "execution_count": 14,
     "metadata": {},
     "output_type": "execute_result"
    },
    {
     "data": {
      "image/png": "[encoded data removed]",
      "text/plain": [
       "<Figure size 1200x400 with 1 Axes>"
      ]
     },
     "metadata": {},
     "output_type": "display_data"
    }
   ],
   "source": [
    "r = (df['Premise Zip Code']\n",
    "         .value_counts()\n",
    "         .sample(len(df['Premise Zip Code'].unique()) - 1))\n",
    "pd.Series(r.cumsum() / np.array(range(1, len(r) + 1))).reset_index(drop=True).plot.line(\n",
    "    figsize=(12, 4), linewidth=1\n",
    ")"
   ]
  },
  {
   "attachments": {},
   "cell_type": "markdown",
   "metadata": {},
   "source": [
    "``Como puede ver, la media de nuestros valores se estabiliza en el valor \"verdadero\" a lo largo del tiempo. Independientemente de la cantidad de varianza al principio de la distribución, al final tenemos una idea muy aproximada de que el resultado real es aproximadamente 2,75.``"
   ]
  },
  {
   "attachments": {},
   "cell_type": "markdown",
   "metadata": {},
   "source": [
    "El código genera un gráfico de línea que muestra cómo se acumula el porcentaje de frecuencia de los valores únicos en la columna 'Premise Zip Code' de un conjunto de datos.\n",
    "\n",
    "Aquí está el proceso paso a paso:\n",
    "\n",
    "Primero, se calcula la frecuencia de cada valor único en la columna 'Premise Zip Code' utilizando value_counts(). Luego, se toma una muestra aleatoria de esas frecuencias, excepto la de mayor frecuencia. Esto se hace para evitar que el valor más común domine el gráfico y permitir que los valores menos comunes sean más visibles.\n",
    "\n",
    "A continuación, se calcula la acumulación porcentual dividiendo la suma acumulada de las frecuencias por el número de observaciones hasta ese punto. Esto se hace para ver cómo se acumula el porcentaje de frecuencia a medida que avanzamos a través de los valores únicos.\n",
    "\n",
    "Finalmente, se traza el gráfico de línea utilizando la serie calculada anteriormente. El eje x representa el número de observaciones y el eje y muestra el porcentaje acumulado de frecuencia.\n",
    "\n",
    "En resumen, el gráfico muestra cómo se acumula el porcentaje de frecuencia de los valores únicos en la columna 'Premise Zip Code'. Esto permite visualizar cómo contribuyen los valores menos comunes a medida que aumenta el número de observaciones. La exclusión del valor más común ayuda a resaltar la distribución de los valores menos frecuentes."
   ]
  }
 ],
 "metadata": {
  "kernelspec": {
   "display_name": "Python 3",
   "language": "python",
   "name": "python3"
  },
  "language_info": {
   "codemirror_mode": {
    "name": "ipython",
    "version": 3
   },
   "file_extension": ".py",
   "mimetype": "text/x-python",
   "name": "python",
   "nbconvert_exporter": "python",
   "pygments_lexer": "ipython3",
   "version": "3.10.10"
  },
  "orig_nbformat": 4
 },
 "nbformat": 4,
 "nbformat_minor": 2
}
